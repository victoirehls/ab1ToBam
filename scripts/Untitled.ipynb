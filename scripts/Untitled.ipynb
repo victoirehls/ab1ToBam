{
 "cells": [
  {
   "cell_type": "code",
   "execution_count": 1,
   "metadata": {},
   "outputs": [],
   "source": [
    "from Bio import SeqIO\n",
    "import os\n",
    "from collections import defaultdict\n",
    "import matplotlib.pyplot as plt\n",
    "os.chdir(r\"/home/victoire/stage/test/\")"
   ]
  },
  {
   "cell_type": "code",
   "execution_count": 3,
   "metadata": {},
   "outputs": [
    {
     "name": "stdout",
     "output_type": "stream",
     "text": [
      "Converted 1 records\n"
     ]
    }
   ],
   "source": [
    "records = SeqIO.parse(r\"IGHC_G1_input_R.ab1\", \"abi\")\n",
    "count = SeqIO.write(records, \"IGHC_G1_input_R.fastq\", \"fastq\")\n",
    "print(\"Converted %i records\" % count)"
   ]
  },
  {
   "cell_type": "code",
   "execution_count": 45,
   "metadata": {},
   "outputs": [
    {
     "data": {
      "image/png": "[encoded data removed]",
      "text/plain": [
       "<Figure size 432x288 with 1 Axes>"
      ]
     },
     "metadata": {
      "needs_background": "light"
     },
     "output_type": "display_data"
    }
   ],
   "source": [
    "record = SeqIO.read(r\"AS050_brute/MD_AS050IGHG1seqr_B04_I1165.ab1\", \"abi\")\n",
    "list(record.annotations.keys())\n",
    "list(record.annotations[\"abif_raw\"].keys())\n",
    "\n",
    "\n",
    "channels = [\"DATA9\", \"DATA10\", \"DATA11\", \"DATA12\"]\n",
    "trace = defaultdict(list)\n",
    "for c in channels:\n",
    "    trace[c] = record.annotations[\"abif_raw\"][c]\n",
    "\n",
    "  \n",
    "plt.plot(trace[\"DATA9\"], color=\"blue\")\n",
    "plt.plot(trace[\"DATA10\"], color=\"red\")\n",
    "plt.plot(trace[\"DATA11\"], color=\"green\")\n",
    "plt.plot(trace[\"DATA12\"], color=\"yellow\")\n",
    "plt.show()\n",
    "\n"
   ]
  },
  {
   "cell_type": "code",
   "execution_count": null,
   "metadata": {},
   "outputs": [],
   "source": []
  }
 ],
 "metadata": {
  "kernelspec": {
   "display_name": "Python 3",
   "language": "python",
   "name": "python3"
  },
  "language_info": {
   "codemirror_mode": {
    "name": "ipython",
    "version": 3
   },
   "file_extension": ".py",
   "mimetype": "text/x-python",
   "name": "python",
   "nbconvert_exporter": "python",
   "pygments_lexer": "ipython3",
   "version": "3.8.5"
  }
 },
 "nbformat": 4,
 "nbformat_minor": 4
}
